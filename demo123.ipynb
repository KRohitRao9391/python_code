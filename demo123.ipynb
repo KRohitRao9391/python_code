{
  "nbformat": 4,
  "nbformat_minor": 0,
  "metadata": {
    "colab": {
      "provenance": [],
      "authorship_tag": "ABX9TyMeGqbQrnHdNq2TZYtAGGYU",
      "include_colab_link": true
    },
    "kernelspec": {
      "name": "python3",
      "display_name": "Python 3"
    },
    "language_info": {
      "name": "python"
    }
  },
  "cells": [
    {
      "cell_type": "markdown",
      "metadata": {
        "id": "view-in-github",
        "colab_type": "text"
      },
      "source": [
        "<a href=\"https://colab.research.google.com/github/KRohitRao9391/python_code/blob/main/demo123.ipynb\" target=\"_parent\"><img src=\"https://colab.research.google.com/assets/colab-badge.svg\" alt=\"Open In Colab\"/></a>"
      ]
    },
    {
      "cell_type": "code",
      "execution_count": null,
      "metadata": {
        "colab": {
          "base_uri": "https://localhost:8080/"
        },
        "id": "y9PCVmRStg1u",
        "outputId": "78a9ae72-e3c4-4ace-8886-0b6e0a571f48"
      },
      "outputs": [
        {
          "output_type": "execute_result",
          "data": {
            "text/plain": [
              "57"
            ]
          },
          "metadata": {},
          "execution_count": 2
        }
      ],
      "source": [
        "a=23\n",
        "b=34\n",
        "c=a+b\n",
        "c"
      ]
    },
    {
      "cell_type": "code",
      "source": [
        "a=29\n",
        "b=24\n",
        "c=a*b\n",
        "c"
      ],
      "metadata": {
        "colab": {
          "base_uri": "https://localhost:8080/"
        },
        "id": "Fm4kZah6uYMK",
        "outputId": "586e2201-91e9-4ef3-d087-6d8ef2ce80cc"
      },
      "execution_count": null,
      "outputs": [
        {
          "output_type": "execute_result",
          "data": {
            "text/plain": [
              "696"
            ]
          },
          "metadata": {},
          "execution_count": 3
        }
      ]
    },
    {
      "cell_type": "code",
      "source": [],
      "metadata": {
        "id": "08klz5vl0c3W"
      },
      "execution_count": null,
      "outputs": []
    }
  ]
}